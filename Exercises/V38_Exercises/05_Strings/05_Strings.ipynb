{
 "cells": [
  {
   "cell_type": "markdown",
   "id": "733af95a",
   "metadata": {},
   "source": [
    "### 1a Counting letters"
   ]
  },
  {
   "cell_type": "code",
   "execution_count": 4,
   "id": "504a7a8e",
   "metadata": {},
   "outputs": [
    {
     "name": "stdout",
     "output_type": "stream",
     "text": [
      "Skriv in ett ord:\n",
      "Jättestor är 9 bokstäver långt.\n"
     ]
    }
   ],
   "source": [
    "import numpy as np\n",
    "\n",
    "print(\"Skriv in ett ord:\")\n",
    "\n",
    "w = str(input())\n",
    "\n",
    "print(f\"{w} är {len(w)} bokstäver långt.\")\n",
    "\n"
   ]
  },
  {
   "cell_type": "markdown",
   "id": "dc83da69",
   "metadata": {},
   "source": []
  }
 ],
 "metadata": {
  "kernelspec": {
   "display_name": "Python 3",
   "language": "python",
   "name": "python3"
  },
  "language_info": {
   "codemirror_mode": {
    "name": "ipython",
    "version": 3
   },
   "file_extension": ".py",
   "mimetype": "text/x-python",
   "name": "python",
   "nbconvert_exporter": "python",
   "pygments_lexer": "ipython3",
   "version": "3.13.7"
  }
 },
 "nbformat": 4,
 "nbformat_minor": 5
}

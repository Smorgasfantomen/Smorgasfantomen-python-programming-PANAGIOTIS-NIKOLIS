{
 "cells": [
  {
   "cell_type": "markdown",
   "id": "733af95a",
   "metadata": {},
   "source": [
    "### 1a Counting letters"
   ]
  },
  {
   "cell_type": "code",
   "execution_count": 2,
   "id": "504a7a8e",
   "metadata": {},
   "outputs": [
    {
     "name": "stdout",
     "output_type": "stream",
     "text": [
      "Skriv in ett ord:\n",
      " är 0 bokstäver långt.\n"
     ]
    }
   ],
   "source": [
    "import numpy as np\n",
    "\n",
    "print(\"Skriv in ett ord:\")\n",
    "\n",
    "w = str(input())\n",
    "\n",
    "print(f\"{w} är {len(w)} bokstäver långt.\")\n",
    "\n"
   ]
  },
  {
   "cell_type": "markdown",
   "id": "89ff9b79",
   "metadata": {},
   "source": [
    "### 1b Counting letters"
   ]
  },
  {
   "cell_type": "code",
   "execution_count": null,
   "id": "d19ff835",
   "metadata": {},
   "outputs": [
    {
     "name": "stdout",
     "output_type": "stream",
     "text": [
      "Skriv in ett ord:\n"
     ]
    }
   ],
   "source": [
    "import numpy as np\n",
    "\n",
    "print(\"Skriv in ett ord:\")\n",
    "\n",
    "word = input()\n",
    "u = []\n",
    "l = []\n",
    "\n",
    "for i in word:\n",
    "    if i.isupper():\n",
    "        u.append(i)\n",
    "    if i.islower():\n",
    "        l.append(i)\n",
    "\n",
    "\n",
    "print(f\"{word} innehåller {len(u)} stora bokstäver och {len(l)} små.\")"
   ]
  },
  {
   "cell_type": "markdown",
   "id": "3d0e28a3",
   "metadata": {},
   "source": [
    "### 2 Counting words"
   ]
  },
  {
   "cell_type": "code",
   "execution_count": null,
   "id": "904daa87",
   "metadata": {},
   "outputs": [],
   "source": []
  },
  {
   "cell_type": "code",
   "execution_count": null,
   "id": "0b68c742",
   "metadata": {},
   "outputs": [],
   "source": [
    "import numpy as np\n",
    "\n",
    "sen = \"A picture says more than a thousand words, a matematical formula says more than a thousand pictures.\"\n",
    "\n",
    "w = 1\n",
    "\n",
    "for i in sen:\n",
    "    if i == \" \":\n",
    "        w += 1\n",
    "\n",
    "\n",
    "print(f\"The sentence contains {w} words.\")"
   ]
  },
  {
   "cell_type": "markdown",
   "id": "f1ad0825",
   "metadata": {},
   "source": [
    "### 3 Palindrome"
   ]
  },
  {
   "cell_type": "code",
   "execution_count": null,
   "id": "56e6786e",
   "metadata": {},
   "outputs": [],
   "source": [
    "import numpy as np\n",
    "\n",
    "print(\"Skriv in ett ord:\")\n",
    "\n",
    "rawword = str(input())\n",
    "word = word.replace(\" \", \"\").lower()\n",
    "length = int(len(word))\n",
    "halflen = int(length / 2)\n",
    "uneven = False\n",
    "secstart = int(np.ceil(length / 2))\n",
    "\n",
    "if ((len(word) % 2) == 1):\n",
    "    uneven = True\n",
    "    midletter = (word[(halflen): (halflen + 1)])\n",
    "\n",
    "if uneven == False:\n",
    "    firhalf = (word[0: halflen])\n",
    "    sechalf = (word[halflen:])\n",
    "else:\n",
    "    firhalf = (word[0: halflen])\n",
    "    sechalf = (word[(secstart):])\n",
    "    \n",
    "print(rawword)\n",
    "print(word)\n",
    "print(uneven)\n",
    "print(midletter)\n",
    "print(secstart)\n",
    "print(halflen)\n",
    "print(firhalf)\n",
    "print(sechalf)\n",
    "\n"
   ]
  },
  {
   "cell_type": "markdown",
   "id": "5ca1d0fe",
   "metadata": {},
   "source": [
    "### 4 Count vowels"
   ]
  },
  {
   "cell_type": "code",
   "execution_count": 2,
   "id": "601e4467",
   "metadata": {},
   "outputs": [
    {
     "name": "stdout",
     "output_type": "stream",
     "text": [
      "22\n"
     ]
    }
   ],
   "source": [
    "import numpy as np\n",
    "\n",
    "vowels = (\"aeiyouåäö\")\n",
    "string = (\"Pure mathematics is, in its way, the poetry of logical ideas.\")\n",
    "vowinstr = []\n",
    "\n",
    "for vowel in string:\n",
    "    if vowel in vowels:\n",
    "        vowinstr.append(vowel)\n",
    "\n",
    "\n",
    "print(len(vowinstr))"
   ]
  },
  {
   "cell_type": "markdown",
   "id": "94a523d5",
   "metadata": {},
   "source": [
    "### 5 Encryption"
   ]
  },
  {
   "cell_type": "code",
   "execution_count": null,
   "id": "3fc667a9",
   "metadata": {},
   "outputs": [],
   "source": []
  }
 ],
 "metadata": {
  "kernelspec": {
   "display_name": "Python 3",
   "language": "python",
   "name": "python3"
  },
  "language_info": {
   "codemirror_mode": {
    "name": "ipython",
    "version": 3
   },
   "file_extension": ".py",
   "mimetype": "text/x-python",
   "name": "python",
   "nbconvert_exporter": "python",
   "pygments_lexer": "ipython3",
   "version": "3.13.7"
  }
 },
 "nbformat": 4,
 "nbformat_minor": 5
}

{
 "cells": [
  {
   "cell_type": "markdown",
   "id": "8eca97cc",
   "metadata": {},
   "source": [
    "### 1 Find Errors"
   ]
  },
  {
   "cell_type": "code",
   "execution_count": null,
   "id": "b2f15841",
   "metadata": {},
   "outputs": [
    {
     "name": "stdout",
     "output_type": "stream",
     "text": [
      "1.0\n"
     ]
    }
   ],
   "source": [
    "impor numpy as np #\"Import\"\n",
    "\n",
    "def distance(x,y) #Saknar kolon\n",
    "    reurn np.sqrt(x+y) #\"Return\"\n",
    "\n",
    "print(distance([0.5, 0.5])) #Extra [], varför?"
   ]
  },
  {
   "cell_type": "markdown",
   "id": "4c8ad919",
   "metadata": {},
   "source": [
    "### 2 Find errors"
   ]
  },
  {
   "cell_type": "code",
   "execution_count": null,
   "id": "e73ced34",
   "metadata": {},
   "outputs": [
    {
     "name": "stdout",
     "output_type": "stream",
     "text": [
      "231 is four-digit\n",
      "3124 is four-digit\n",
      "-4124 is four-digit\n",
      "-1000 is four-digit\n",
      "-999 is four-digit\n",
      "1001 is four-digit\n",
      "10000 is not four-digit\n",
      "-10000 is four-digit\n",
      "999 is four-digit\n"
     ]
    }
   ],
   "source": [
    "def is_fourdigit(number):\n",
    "    if number//1000 < 10 #Bör ha mellanslag, saknar kolon, kollar bara siffror över 10 000\n",
    "        return true #True/False ska börja med stor bokstav\n",
    "    else #Saknar kolon\n",
    "        return false #True/False ska börja med stor bokstav\n",
    "\n",
    "# test program\n",
    "test_numbers = [231, 3124, -4124, -1000,-999, 1001, 10000, -10000, 999]\n",
    "\n",
    "for number in test_numbers:\n",
    "    if is_fourdigit(number):\n",
    "        print(f\"{number} is four-digit\")\n",
    "    else:\n",
    "        print(f\"{number} is not four-digit\")"
   ]
  },
  {
   "cell_type": "markdown",
   "id": "f74701b6",
   "metadata": {},
   "source": [
    "### 3 Tram"
   ]
  },
  {
   "cell_type": "code",
   "execution_count": 13,
   "id": "e8791ac0",
   "metadata": {},
   "outputs": [
    {
     "name": "stdout",
     "output_type": "stream",
     "text": [
      "Om du åker fler än 23 gånger i månaden tjänar du på att skaffa månadskort.\n",
      "Köper du månadskort sparar du 990.0kr.\n"
     ]
    }
   ],
   "source": [
    "import numpy as np\n",
    "\n",
    "while True:\n",
    "    try:\n",
    "        freq = int(input(\"Hur många gånger i månaden tar du spårvagnen?\"))\n",
    "        break\n",
    "    except:\n",
    "        print(\"Du måste mata in ett heltal.\")\n",
    "\n",
    "while True:\n",
    "    try:\n",
    "        ticket_price = float(input(\"Vad kostar en engångsbiljett?\"))\n",
    "        break\n",
    "    except:\n",
    "        print(\"Du måste mata in ett tal.\")\n",
    "\n",
    "while True:\n",
    "    try:\n",
    "        pass_price = float(input(\"Vad kostar ett månadskort?\"))\n",
    "        break\n",
    "    except:\n",
    "        print(\"Du måste mata in ett tal.\")\n",
    "\n",
    "\n",
    "\n",
    "monthly_ticketcost = freq * ticket_price\n",
    "\n",
    "passvalue = int(pass_price / ticket_price)\n",
    "\n",
    "print(f\"Om du åker fler än {passvalue} gånger i månaden tjänar du på att skaffa månadskort.\")\n",
    "\n",
    "if monthly_ticketcost > pass_price:\n",
    "    print(f\"Köper du månadskort sparar du {monthly_ticketcost - pass_price}kr.\")\n",
    "elif pass_price > monthly_ticketcost:\n",
    "    print(f\"Köper du engångsbiljetter sparar du {pass_price - monthly_ticketcost}kr.\")\n",
    "else:\n",
    "    print(\"På något magiskt sätt går det jämnt ut.\")\n",
    "\n",
    "\n"
   ]
  }
 ],
 "metadata": {
  "kernelspec": {
   "display_name": "Python 3",
   "language": "python",
   "name": "python3"
  },
  "language_info": {
   "codemirror_mode": {
    "name": "ipython",
    "version": 3
   },
   "file_extension": ".py",
   "mimetype": "text/x-python",
   "name": "python",
   "nbconvert_exporter": "python",
   "pygments_lexer": "ipython3",
   "version": "3.13.7"
  }
 },
 "nbformat": 4,
 "nbformat_minor": 5
}

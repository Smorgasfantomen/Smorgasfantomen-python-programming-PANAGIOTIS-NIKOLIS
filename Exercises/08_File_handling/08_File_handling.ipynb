{
 "cells": [
  {
   "cell_type": "markdown",
   "id": "a12221be",
   "metadata": {},
   "source": [
    "### 1 Dice rolls"
   ]
  },
  {
   "cell_type": "code",
   "execution_count": null,
   "id": "35964ff7",
   "metadata": {},
   "outputs": [
    {
     "name": "stdout",
     "output_type": "stream",
     "text": [
      "['1', '1', '1', '2', '2', '2', '2', '2', '3', '3', '3', '3', '3', '4', '4', '4', '5', '5', '6', '6']\n",
      "The number four appears 3 times.\n"
     ]
    }
   ],
   "source": [
    "import numpy as np\n",
    "\n",
    "#A:\n",
    "\n",
    "with open(\"Dicerolls.txt\", \"w\") as file:\n",
    "    file.write(\"\")\n",
    "\n",
    "with open(\"Dicerolls.txt\", \"a\") as file:\n",
    "    for roll in range(20):\n",
    "        n = np.random.randint(1, 7)\n",
    "        file.write(str(n))\n",
    "\n",
    "# B:\n",
    "\n",
    "with open(\"Dicerolls.txt\", \"r\") as file:\n",
    "    numbers = file.read()\n",
    "\n",
    "with open(\"Dicerolls.txt\", \"a\") as file:\n",
    "    file.write(f\"\\n{str(\"\".join(sorted(numbers)))}\")\n",
    "\n",
    "# C:\n",
    "\n",
    "with open(\"Dicerolls.txt\", \"r\") as file:\n",
    "    print(f\"The number four appears {((file.readlines())[1]).count(\"4\")} times.\")"
   ]
  },
  {
   "cell_type": "markdown",
   "id": "a02bfcdb",
   "metadata": {},
   "source": [
    "### 2 Test results"
   ]
  },
  {
   "cell_type": "code",
   "execution_count": 180,
   "id": "9e84db74",
   "metadata": {},
   "outputs": [],
   "source": [
    "import numpy as np\n",
    "\n",
    "# A:\n",
    "\n",
    "#with open(\"test_result.txt\", \"r\") as file:\n",
    "#    print(file.read())\n",
    "\n",
    "# B:\n",
    "\n",
    "with open(\"test_result.txt\", \"r\") as file:\n",
    "    data = file.readlines()\n",
    "\n",
    "data.sort()\n",
    "\n",
    "with open(\"test_result.txt\", \"a\") as file:\n",
    "    file.write(\"\\n\\nSorted alphabetically\\n\\n\")\n",
    "    for line in data:\n",
    "        file.write(line)\n",
    "\n",
    "nameslist = []\n",
    "A_people = []\n",
    "B_people = []\n",
    "C_people = []\n",
    "D_people = []\n",
    "E_people = []\n",
    "F_people = []\n",
    "\n",
    "def print_grade_group(grade, person):\n",
    "    out_line = [f\"\\n\\nGrade: {grade}\"]\n",
    "    for name, score in person:\n",
    "        out_line.append(f\"{name} {score}\")\n",
    "    return \"\\n\".join(out_line)\n",
    "\n",
    "\n",
    "\n",
    "for line in data:\n",
    "    line = line.strip()\n",
    "    if line:\n",
    "        parts = line.split()\n",
    "        score = int(parts[-1])\n",
    "        name = \" \".join(parts[:-1])\n",
    "        nameslist.append((name, score))\n",
    "\n",
    "nameslist.sort(key=lambda x: x[1], reverse = True)\n",
    "\n",
    "for line in nameslist:\n",
    "    if line:\n",
    "        score = int(line[1])\n",
    "        if score < 20: F_people.append((line))\n",
    "        elif 20 < score < 30: E_people.append((line))\n",
    "        elif 30 < score < 40: D_people.append((line))\n",
    "        elif 40 < score < 50: C_people.append((line))\n",
    "        elif 50 < score < 60: B_people.append((line))\n",
    "        else: A_people.append((line))\n",
    "\n",
    "\n",
    "with open(\"test_result.txt\", \"a\") as file:\n",
    "    file.write(str(print_grade_group(\"A\", A_people)))\n",
    "    file.write(str(print_grade_group(\"B\", B_people)))\n",
    "    file.write(str(print_grade_group(\"C\", C_people)))\n",
    "    file.write(str(print_grade_group(\"D\", D_people)))\n",
    "    file.write(str(print_grade_group(\"E\", E_people)))\n",
    "    file.write(str(print_grade_group(\"F\", F_people)))\n",
    "\n",
    "\n"
   ]
  },
  {
   "cell_type": "markdown",
   "id": "0b06a003",
   "metadata": {},
   "source": [
    "### 3 National test"
   ]
  },
  {
   "cell_type": "code",
   "execution_count": 29,
   "id": "e1008e48",
   "metadata": {},
   "outputs": [
    {
     "name": "stdout",
     "output_type": "stream",
     "text": [
      "['A', 'B', 'C', 'D', 'E', 'F']\n",
      "[0.0, 0.0, 2.4, 5.3, 37.3, 55.0]\n",
      "[8.4, 14.2, 26.9, 16.6, 21.3, 12.6]\n"
     ]
    },
    {
     "data": {
      "image/png": "[encoded data removed]",
      "text/plain": [
       "<Figure size 640x480 with 2 Axes>"
      ]
     },
     "metadata": {},
     "output_type": "display_data"
    }
   ],
   "source": [
    "import matplotlib.pyplot as plt\n",
    "import numpy as np\n",
    "\n",
    "NPvt19Ma2A = []\n",
    "NPvt19Ma2C = []\n",
    "Ma2A_res = []\n",
    "Ma2C_res = []\n",
    "gradelevels = []\n",
    "\n",
    "with open(\"NPvt19Ma2A.txt\", \"r\") as file:\n",
    "    for row in file:\n",
    "        part = row.strip().split()\n",
    "        NPvt19Ma2A.append(part)\n",
    "\n",
    "with open(\"NPvt19Ma2C.txt\", \"r\") as file:\n",
    "    for row in file:\n",
    "        part = row.strip().split()\n",
    "        NPvt19Ma2C.append(part)\n",
    "\n",
    "for grade in NPvt19Ma2A:\n",
    "    gradelevels.append(grade[0])\n",
    "    Ma2A_res.append(float(grade[1].strip(\"%\")))\n",
    "\n",
    "for grade in NPvt19Ma2C:\n",
    "    Ma2C_res.append(float(grade[1].strip(\"%\")))\n",
    "\n",
    "print(gradelevels)\n",
    "print(Ma2A_res)\n",
    "print(Ma2C_res)\n",
    "\n",
    "plt.subplot(1, 2, 1)\n",
    "plt.pie(Ma2A_res, labels = gradelevels)\n",
    "plt.title(\"NP Ma2A\")\n",
    "\n",
    "plt.subplot(1, 2, 2)\n",
    "plt.pie(Ma2C_res, labels = gradelevels)\n",
    "plt.title(\"NP Ma2C\")\n",
    "\n",
    "plt.show() \n",
    "\n"
   ]
  }
 ],
 "metadata": {
  "kernelspec": {
   "display_name": "Python 3",
   "language": "python",
   "name": "python3"
  },
  "language_info": {
   "codemirror_mode": {
    "name": "ipython",
    "version": 3
   },
   "file_extension": ".py",
   "mimetype": "text/x-python",
   "name": "python",
   "nbconvert_exporter": "python",
   "pygments_lexer": "ipython3",
   "version": "3.13.7"
  }
 },
 "nbformat": 4,
 "nbformat_minor": 5
}

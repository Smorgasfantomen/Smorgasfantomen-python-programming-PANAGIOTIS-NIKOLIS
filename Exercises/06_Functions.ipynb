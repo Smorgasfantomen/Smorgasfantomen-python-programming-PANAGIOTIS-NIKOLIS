{
 "cells": [
  {
   "cell_type": "markdown",
   "id": "31d93123",
   "metadata": {},
   "source": [
    "### 1 Area"
   ]
  },
  {
   "cell_type": "code",
   "execution_count": null,
   "id": "26d073a5",
   "metadata": {},
   "outputs": [
    {
     "name": "stdout",
     "output_type": "stream",
     "text": [
      "Arean är 10.0 cm2.\n"
     ]
    }
   ],
   "source": [
    "length = float(input(\"Enter length: \"))\n",
    "width = float(input(\"Enter width: \"))\n",
    "\n",
    "def triarea(x, y):\n",
    "    area = ((x * y)/2)\n",
    "    return area\n",
    "\n",
    "print(f\"The area is {triarea(length, width)} cm2.\")"
   ]
  },
  {
   "cell_type": "markdown",
   "id": "2ef32ba2",
   "metadata": {},
   "source": [
    "### 2 Euclidean distance"
   ]
  },
  {
   "cell_type": "code",
   "execution_count": 2,
   "id": "a7d2b68c",
   "metadata": {},
   "outputs": [
    {
     "name": "stdout",
     "output_type": "stream",
     "text": [
      "5.0\n"
     ]
    }
   ],
   "source": [
    "import numpy as np\n",
    "\n",
    "P1 = input(\"Enter P1 coordinates(x, y): \").replace(\" \", \"\").split(\",\")\n",
    "P2 = input(\"Enter P1 coordinates(x, y): \").replace(\" \", \"\").split(\",\")\n",
    "\n",
    "def eucdist(p1, p2):\n",
    "    xdist = float(p2[0]) - float(p1[0])\n",
    "    ydist = float(p2[1]) - float(p1[1])\n",
    "    print(np.sqrt(xdist**2 + ydist**2))\n",
    "\n",
    "eucdist(P1, P2)\n",
    "    "
   ]
  },
  {
   "cell_type": "markdown",
   "id": "128c57b8",
   "metadata": {},
   "source": [
    "### 3 Math functions"
   ]
  },
  {
   "cell_type": "code",
   "execution_count": 6,
   "id": "1315c309",
   "metadata": {},
   "outputs": [
    {
     "data": {
      "image/png": "[encoded data removed]",
      "text/plain": [
       "<Figure size 640x480 with 1 Axes>"
      ]
     },
     "metadata": {},
     "output_type": "display_data"
    }
   ],
   "source": [
    "import numpy as np\n",
    "import matplotlib.pyplot as plt\n",
    "\n",
    "x = np.linspace(-10,10)\n",
    "\n",
    "def funcone(x):\n",
    "    y = (x**2 - 3)\n",
    "    plt.plot(x, y)\n",
    "\n",
    "def functwo(x):\n",
    "    y = ((4 * x) - 7)\n",
    "    plt.plot(x, y)\n",
    "\n",
    "funcone(x)\n",
    "functwo(x)\n",
    "plt.show()\n"
   ]
  },
  {
   "cell_type": "markdown",
   "id": "33a3705f",
   "metadata": {},
   "source": [
    "### 4 Name cleaner"
   ]
  },
  {
   "cell_type": "code",
   "execution_count": 18,
   "id": "4d6ae008",
   "metadata": {},
   "outputs": [
    {
     "name": "stdout",
     "output_type": "stream",
     "text": [
      "Marcus\n",
      "Ida Anderson\n",
      "Olof Olofsson\n"
     ]
    }
   ],
   "source": [
    "rawwords = [\"  MaRcUs \", \" iDA   aNderSon\", \"OLOF Olofsson            \"  ]\n",
    "\n",
    "for rawname in rawwords:\n",
    "    name = rawname.strip().title()\n",
    "    splitnames = name.split()\n",
    "    finalnames = \" \".join(splitnames)\n",
    "    print(finalnames)"
   ]
  },
  {
   "cell_type": "markdown",
   "id": "b3eef93e",
   "metadata": {},
   "source": [
    "### 5 Valutaräknare"
   ]
  },
  {
   "cell_type": "code",
   "execution_count": null,
   "id": "d7a78020",
   "metadata": {},
   "outputs": [
    {
     "name": "stdout",
     "output_type": "stream",
     "text": [
      "1000\n",
      "500\n",
      "200\n",
      "100\n",
      "50\n",
      "0\n",
      "0\n",
      "0\n",
      "0\n",
      "0.0\n",
      "Du får tillbaka:\n",
      "1.0 1000-lappar,\n",
      "1.0 500-lappar,\n",
      "1.0 200-lappar,\n",
      "1.0 100-lappar,\n",
      "1.0 50-lappar,\n",
      "0.0 20-lappar,\n",
      "0.0 10-kronor,\n",
      "0.0 5-kronor,\n",
      "0.0 2-kronor,\n",
      "och 0.0 1-kronor.\n"
     ]
    }
   ],
   "source": [
    "value = int(input(\"Mata in ett värde: \"))\n",
    "\n",
    "value1k = int(value - (value % 1000))\n",
    "value500 = int((value % 1000) - ((value % 1000) % 500))\n",
    "value200 = int(((value % 1000) % 500) - ((value % 1000) % 500) % 200)\n",
    "value100 = int((((value % 1000) % 500) % 200) - (((value % 1000) % 500) % 200) % 100)\n",
    "value50 = int(((((value % 1000) % 500) % 200) % 100) - ((((value % 1000) % 500) % 200) % 100) % 50)\n",
    "value20 = int((value - value50) % 20) #Orkar inte göra mer just nu\n",
    "value10 = int((value - value20) % 10)\n",
    "value5 = int((value - value10) % 5)\n",
    "value2 = int((value - value5) % 2)\n",
    "value1 = float((value - value2) % 1)\n",
    "\n",
    "print(value1k)\n",
    "print(value500)\n",
    "print(value200)\n",
    "print(value100)\n",
    "print(value50)\n",
    "print(value20)\n",
    "print(value10)\n",
    "print(value5)\n",
    "print(value2)\n",
    "print(value1)\n",
    "\n",
    "notes1k = value1k / 1000\n",
    "notes500 = value500 / 500\n",
    "notes200 = value200 / 200\n",
    "notes100 = value100 / 100\n",
    "notes50 = value50 / 50\n",
    "notes20 = value20 / 20\n",
    "coins10 = value10 / 10\n",
    "coins5 = value5 / 5\n",
    "coins2 = value2 / 2\n",
    "coins1 = value1 / 1\n",
    "\n",
    "print(f\"Du får tillbaka:\\n{notes1k} 1000-lappar,\\n{notes500} 500-lappar,\\n{notes200} 200-lappar,\\n{notes100} 100-lappar,\\n{notes50} 50-lappar,\\n{notes20} 20-lappar,\\n{coins10} 10-kronor,\\n{coins5} 5-kronor,\\n{coins2} 2-kronor,\\noch {coins1} 1-kronor.\")"
   ]
  }
 ],
 "metadata": {
  "kernelspec": {
   "display_name": "Python 3",
   "language": "python",
   "name": "python3"
  },
  "language_info": {
   "codemirror_mode": {
    "name": "ipython",
    "version": 3
   },
   "file_extension": ".py",
   "mimetype": "text/x-python",
   "name": "python",
   "nbconvert_exporter": "python",
   "pygments_lexer": "ipython3",
   "version": "3.13.7"
  }
 },
 "nbformat": 4,
 "nbformat_minor": 5
}
